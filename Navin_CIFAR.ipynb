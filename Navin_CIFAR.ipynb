{
  "nbformat": 4,
  "nbformat_minor": 0,
  "metadata": {
    "colab": {
      "provenance": []
    },
    "kernelspec": {
      "name": "python3",
      "display_name": "Python 3"
    },
    "language_info": {
      "name": "python"
    },
    "accelerator": "GPU",
    "gpuClass": "standard"
  },
  "cells": [
    {
      "cell_type": "markdown",
      "source": [
        "**Importing Packages**"
      ],
      "metadata": {
        "id": "jiczvjKmQho2"
      }
    },
    {
      "cell_type": "code",
      "execution_count": 46,
      "metadata": {
        "id": "H7c91BnWQcj0"
      },
      "outputs": [],
      "source": [
        "import numpy as np\n",
        "import tensorflow as tf\n",
        "from tensorflow import keras\n",
        "from keras.datasets import cifar10\n",
        "from keras.models import Sequential,load_model,save_model\n",
        "from keras.layers import Conv2D,MaxPooling2D,Flatten,Dense,Dropout\n",
        "from keras.utils import to_categorical\n",
        "import matplotlib.pyplot as plt\n",
        "plt.style.use(['dark_background'])"
      ]
    },
    {
      "cell_type": "markdown",
      "source": [
        "**Reading the dataset**"
      ],
      "metadata": {
        "id": "6MAgBL17R3jG"
      }
    },
    {
      "cell_type": "code",
      "source": [
        "(x_train,y_train) , (x_test,y_test) = cifar10.load_data()"
      ],
      "metadata": {
        "id": "c4IGh2z4Qtji"
      },
      "execution_count": 32,
      "outputs": []
    },
    {
      "cell_type": "code",
      "source": [
        "print(f\"Shape of the Dataset: {x_train.shape}\")"
      ],
      "metadata": {
        "colab": {
          "base_uri": "https://localhost:8080/"
        },
        "id": "KTSNfPOpSlbk",
        "outputId": "1d6dbd68-c3fb-40fb-e345-5f07a8cf3bce"
      },
      "execution_count": 33,
      "outputs": [
        {
          "output_type": "stream",
          "name": "stdout",
          "text": [
            "Shape of the Dataset: (50000, 32, 32, 3)\n"
          ]
        }
      ]
    },
    {
      "cell_type": "code",
      "source": [
        "x_train = x_train / 255\n",
        "x_test = x_test / 255"
      ],
      "metadata": {
        "id": "SoCkmy75TldJ"
      },
      "execution_count": 34,
      "outputs": []
    },
    {
      "cell_type": "markdown",
      "source": [
        "**Creating Model**"
      ],
      "metadata": {
        "id": "9z1h9Q1gUwqf"
      }
    },
    {
      "cell_type": "code",
      "source": [
        "def create_model():\n",
        "  model = Sequential()\n",
        "  model.add(Conv2D(32,(3,3),activation='relu',input_shape=(32,32,3)))\n",
        "  model.add(MaxPooling2D(pool_size=(2,2)))\n",
        "  model.add(Conv2D(64,(3,3),activation='relu'))\n",
        "  model.add(MaxPooling2D(pool_size=(2,2)))\n",
        "  model.add(Conv2D(64,(3,3),activation='relu'))\n",
        "  model.add(MaxPooling2D(pool_size=(2,2)))\n",
        "  model.add(Flatten())\n",
        "  model.add(Dense(128,activation='tanh'))\n",
        "  model.add(Dropout(0.5))\n",
        "  model.add(Dense(10,activation='sigmoid'))\n",
        "  return model"
      ],
      "metadata": {
        "id": "vk_X7-MDUhUx"
      },
      "execution_count": 35,
      "outputs": []
    },
    {
      "cell_type": "code",
      "source": [
        "model = create_model()\n",
        "model.compile(optimizer=\"adam\",loss=\"sparse_categorical_crossentropy\",metrics=['acc'])"
      ],
      "metadata": {
        "id": "0v_8nJd9W7uB"
      },
      "execution_count": 36,
      "outputs": []
    },
    {
      "cell_type": "code",
      "source": [
        "history = model.fit(x_train,y_train,batch_size=64,epochs=50,validation_split=0.2,validation_data=(x_test,y_test))"
      ],
      "metadata": {
        "colab": {
          "base_uri": "https://localhost:8080/"
        },
        "id": "2cDG8GMaX8SB",
        "outputId": "b12d4f7c-b33a-4fed-fcc0-8cc68f98c556"
      },
      "execution_count": 37,
      "outputs": [
        {
          "output_type": "stream",
          "name": "stdout",
          "text": [
            "Epoch 1/50\n",
            "782/782 [==============================] - 7s 6ms/step - loss: 1.6030 - acc: 0.4063 - val_loss: 1.2821 - val_acc: 0.5417\n",
            "Epoch 2/50\n",
            "782/782 [==============================] - 4s 5ms/step - loss: 1.2442 - acc: 0.5557 - val_loss: 1.1350 - val_acc: 0.5980\n",
            "Epoch 3/50\n",
            "782/782 [==============================] - 4s 6ms/step - loss: 1.0898 - acc: 0.6173 - val_loss: 0.9955 - val_acc: 0.6478\n",
            "Epoch 4/50\n",
            "782/782 [==============================] - 4s 5ms/step - loss: 0.9930 - acc: 0.6529 - val_loss: 0.9638 - val_acc: 0.6702\n",
            "Epoch 5/50\n",
            "782/782 [==============================] - 4s 5ms/step - loss: 0.9209 - acc: 0.6788 - val_loss: 0.9169 - val_acc: 0.6807\n",
            "Epoch 6/50\n",
            "782/782 [==============================] - 4s 6ms/step - loss: 0.8607 - acc: 0.7001 - val_loss: 0.8682 - val_acc: 0.6989\n",
            "Epoch 7/50\n",
            "782/782 [==============================] - 4s 5ms/step - loss: 0.8192 - acc: 0.7173 - val_loss: 0.8466 - val_acc: 0.7099\n",
            "Epoch 8/50\n",
            "782/782 [==============================] - 4s 5ms/step - loss: 0.7796 - acc: 0.7303 - val_loss: 0.8837 - val_acc: 0.6977\n",
            "Epoch 9/50\n",
            "782/782 [==============================] - 5s 6ms/step - loss: 0.7465 - acc: 0.7423 - val_loss: 0.8212 - val_acc: 0.7216\n",
            "Epoch 10/50\n",
            "782/782 [==============================] - 4s 5ms/step - loss: 0.7140 - acc: 0.7551 - val_loss: 0.8928 - val_acc: 0.6964\n",
            "Epoch 11/50\n",
            "782/782 [==============================] - 4s 5ms/step - loss: 0.6834 - acc: 0.7648 - val_loss: 0.8360 - val_acc: 0.7208\n",
            "Epoch 12/50\n",
            "782/782 [==============================] - 6s 7ms/step - loss: 0.6602 - acc: 0.7707 - val_loss: 0.8309 - val_acc: 0.7235\n",
            "Epoch 13/50\n",
            "782/782 [==============================] - 4s 5ms/step - loss: 0.6372 - acc: 0.7802 - val_loss: 0.8350 - val_acc: 0.7236\n",
            "Epoch 14/50\n",
            "782/782 [==============================] - 4s 5ms/step - loss: 0.6191 - acc: 0.7851 - val_loss: 0.8317 - val_acc: 0.7252\n",
            "Epoch 15/50\n",
            "782/782 [==============================] - 5s 6ms/step - loss: 0.5954 - acc: 0.7941 - val_loss: 0.8429 - val_acc: 0.7211\n",
            "Epoch 16/50\n",
            "782/782 [==============================] - 6s 7ms/step - loss: 0.5780 - acc: 0.7998 - val_loss: 0.8501 - val_acc: 0.7211\n",
            "Epoch 17/50\n",
            "782/782 [==============================] - 5s 6ms/step - loss: 0.5593 - acc: 0.8052 - val_loss: 0.8835 - val_acc: 0.7213\n",
            "Epoch 18/50\n",
            "782/782 [==============================] - 4s 5ms/step - loss: 0.5430 - acc: 0.8111 - val_loss: 0.8659 - val_acc: 0.7218\n",
            "Epoch 19/50\n",
            "782/782 [==============================] - 4s 5ms/step - loss: 0.5186 - acc: 0.8212 - val_loss: 0.8871 - val_acc: 0.7199\n",
            "Epoch 20/50\n",
            "782/782 [==============================] - 5s 6ms/step - loss: 0.5095 - acc: 0.8232 - val_loss: 0.8673 - val_acc: 0.7297\n",
            "Epoch 21/50\n",
            "782/782 [==============================] - 4s 5ms/step - loss: 0.4942 - acc: 0.8260 - val_loss: 0.8730 - val_acc: 0.7320\n",
            "Epoch 22/50\n",
            "782/782 [==============================] - 4s 5ms/step - loss: 0.4778 - acc: 0.8335 - val_loss: 0.9147 - val_acc: 0.7215\n",
            "Epoch 23/50\n",
            "782/782 [==============================] - 5s 6ms/step - loss: 0.4607 - acc: 0.8398 - val_loss: 0.9240 - val_acc: 0.7214\n",
            "Epoch 24/50\n",
            "782/782 [==============================] - 4s 5ms/step - loss: 0.4485 - acc: 0.8440 - val_loss: 0.9496 - val_acc: 0.7206\n",
            "Epoch 25/50\n",
            "782/782 [==============================] - 4s 5ms/step - loss: 0.4362 - acc: 0.8464 - val_loss: 0.9762 - val_acc: 0.7127\n",
            "Epoch 26/50\n",
            "782/782 [==============================] - 4s 6ms/step - loss: 0.4225 - acc: 0.8531 - val_loss: 0.9526 - val_acc: 0.7222\n",
            "Epoch 27/50\n",
            "782/782 [==============================] - 4s 5ms/step - loss: 0.4187 - acc: 0.8527 - val_loss: 0.9458 - val_acc: 0.7260\n",
            "Epoch 28/50\n",
            "782/782 [==============================] - 5s 6ms/step - loss: 0.4078 - acc: 0.8572 - val_loss: 0.9701 - val_acc: 0.7180\n",
            "Epoch 29/50\n",
            "782/782 [==============================] - 8s 10ms/step - loss: 0.3936 - acc: 0.8624 - val_loss: 1.0180 - val_acc: 0.7168\n",
            "Epoch 30/50\n",
            "782/782 [==============================] - 4s 5ms/step - loss: 0.3805 - acc: 0.8650 - val_loss: 1.0337 - val_acc: 0.7126\n",
            "Epoch 31/50\n",
            "782/782 [==============================] - 5s 6ms/step - loss: 0.3766 - acc: 0.8683 - val_loss: 1.0108 - val_acc: 0.7190\n",
            "Epoch 32/50\n",
            "782/782 [==============================] - 4s 5ms/step - loss: 0.3708 - acc: 0.8687 - val_loss: 1.0349 - val_acc: 0.7138\n",
            "Epoch 33/50\n",
            "782/782 [==============================] - 4s 5ms/step - loss: 0.3563 - acc: 0.8744 - val_loss: 1.0518 - val_acc: 0.7141\n",
            "Epoch 34/50\n",
            "782/782 [==============================] - 5s 6ms/step - loss: 0.3509 - acc: 0.8781 - val_loss: 1.0880 - val_acc: 0.7069\n",
            "Epoch 35/50\n",
            "782/782 [==============================] - 4s 5ms/step - loss: 0.3315 - acc: 0.8830 - val_loss: 1.0715 - val_acc: 0.7143\n",
            "Epoch 36/50\n",
            "782/782 [==============================] - 4s 5ms/step - loss: 0.3328 - acc: 0.8816 - val_loss: 1.0804 - val_acc: 0.7140\n",
            "Epoch 37/50\n",
            "782/782 [==============================] - 5s 6ms/step - loss: 0.3241 - acc: 0.8857 - val_loss: 1.1290 - val_acc: 0.7047\n",
            "Epoch 38/50\n",
            "782/782 [==============================] - 4s 5ms/step - loss: 0.3200 - acc: 0.8874 - val_loss: 1.1470 - val_acc: 0.7043\n",
            "Epoch 39/50\n",
            "782/782 [==============================] - 4s 5ms/step - loss: 0.3131 - acc: 0.8880 - val_loss: 1.1315 - val_acc: 0.7105\n",
            "Epoch 40/50\n",
            "782/782 [==============================] - 5s 6ms/step - loss: 0.2989 - acc: 0.8953 - val_loss: 1.1230 - val_acc: 0.7158\n",
            "Epoch 41/50\n",
            "782/782 [==============================] - 4s 5ms/step - loss: 0.2995 - acc: 0.8934 - val_loss: 1.1729 - val_acc: 0.7111\n",
            "Epoch 42/50\n",
            "782/782 [==============================] - 5s 7ms/step - loss: 0.2973 - acc: 0.8947 - val_loss: 1.1504 - val_acc: 0.7171\n",
            "Epoch 43/50\n",
            "782/782 [==============================] - 5s 6ms/step - loss: 0.2870 - acc: 0.8978 - val_loss: 1.2086 - val_acc: 0.7084\n",
            "Epoch 44/50\n",
            "782/782 [==============================] - 4s 5ms/step - loss: 0.2759 - acc: 0.9027 - val_loss: 1.2059 - val_acc: 0.7108\n",
            "Epoch 45/50\n",
            "782/782 [==============================] - 4s 6ms/step - loss: 0.2825 - acc: 0.9005 - val_loss: 1.2044 - val_acc: 0.7082\n",
            "Epoch 46/50\n",
            "782/782 [==============================] - 4s 6ms/step - loss: 0.2649 - acc: 0.9066 - val_loss: 1.2609 - val_acc: 0.7033\n",
            "Epoch 47/50\n",
            "782/782 [==============================] - 4s 6ms/step - loss: 0.2687 - acc: 0.9036 - val_loss: 1.2332 - val_acc: 0.7103\n",
            "Epoch 48/50\n",
            "782/782 [==============================] - 5s 6ms/step - loss: 0.2680 - acc: 0.9054 - val_loss: 1.2478 - val_acc: 0.7002\n",
            "Epoch 49/50\n",
            "782/782 [==============================] - 4s 5ms/step - loss: 0.2542 - acc: 0.9090 - val_loss: 1.2737 - val_acc: 0.7057\n",
            "Epoch 50/50\n",
            "782/782 [==============================] - 4s 5ms/step - loss: 0.2507 - acc: 0.9114 - val_loss: 1.2625 - val_acc: 0.7094\n"
          ]
        }
      ]
    },
    {
      "cell_type": "code",
      "source": [
        "loss,acc = model.evaluate(x_test,y_test)"
      ],
      "metadata": {
        "colab": {
          "base_uri": "https://localhost:8080/"
        },
        "id": "-pYffnuQY5Cs",
        "outputId": "fe079b34-dc72-4d58-dd12-6187c056b62f"
      },
      "execution_count": 41,
      "outputs": [
        {
          "output_type": "stream",
          "name": "stdout",
          "text": [
            "313/313 [==============================] - 1s 4ms/step - loss: 1.2625 - acc: 0.7094\n"
          ]
        }
      ]
    },
    {
      "cell_type": "code",
      "source": [
        "print(f\"Loss: {loss}\\nAccuracy: {acc}\")"
      ],
      "metadata": {
        "colab": {
          "base_uri": "https://localhost:8080/"
        },
        "id": "JFoV52JfcBH4",
        "outputId": "c04304b7-4809-44a9-957f-2eba3e894fa4"
      },
      "execution_count": 42,
      "outputs": [
        {
          "output_type": "stream",
          "name": "stdout",
          "text": [
            "Loss: 1.2625433206558228\n",
            "Accuracy: 0.7093999981880188\n"
          ]
        }
      ]
    },
    {
      "cell_type": "markdown",
      "source": [
        "**Plotting the History**"
      ],
      "metadata": {
        "id": "2u8NPxMwcQeq"
      }
    },
    {
      "cell_type": "code",
      "source": [
        "plt.plot(history.history['val_loss'],label=\"Val_Loss\")\n",
        "plt.plot(history.history['loss'],label=\"Loss\")\n",
        "plt.plot(history.history['val_acc'],label=\"Val_Acc\")\n",
        "plt.plot(history.history['acc'],label=\"Acc\")\n",
        "plt.legend()\n",
        "plt.show()"
      ],
      "metadata": {
        "colab": {
          "base_uri": "https://localhost:8080/",
          "height": 430
        },
        "id": "4z0CRK8ncK1e",
        "outputId": "9a6cdc1e-8396-4328-e658-904ed41f893b"
      },
      "execution_count": 44,
      "outputs": [
        {
          "output_type": "display_data",
          "data": {
            "text/plain": [
              "<Figure size 640x480 with 1 Axes>"
            ],
            "image/png": "[encoded data removed]"
          },
          "metadata": {}
        }
      ]
    },
    {
      "cell_type": "markdown",
      "source": [
        "**Loading the Model**"
      ],
      "metadata": {
        "id": "8Fp5LI6heU8Q"
      }
    },
    {
      "cell_type": "code",
      "source": [
        "model.save('model.h5')"
      ],
      "metadata": {
        "id": "aAIHBtl2d1oU"
      },
      "execution_count": 47,
      "outputs": []
    }
  ]
}